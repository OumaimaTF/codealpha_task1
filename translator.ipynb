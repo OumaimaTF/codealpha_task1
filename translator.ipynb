{
 "cells": [
  {
   "cell_type": "code",
   "execution_count": 1,
   "metadata": {},
   "outputs": [],
   "source": [
    "from  googletrans import Translator"
   ]
  },
  {
   "cell_type": "code",
   "execution_count": 2,
   "metadata": {},
   "outputs": [
    {
     "name": "stdout",
     "output_type": "stream",
     "text": [
      "af:afrikaans\n",
      "sq:albanian\n",
      "am:amharic\n",
      "ar:arabic\n",
      "hy:armenian\n",
      "az:azerbaijani\n",
      "eu:basque\n",
      "be:belarusian\n",
      "bn:bengali\n",
      "bs:bosnian\n",
      "bg:bulgarian\n",
      "ca:catalan\n",
      "ceb:cebuano\n",
      "ny:chichewa\n",
      "zh-cn:chinese (simplified)\n",
      "zh-tw:chinese (traditional)\n",
      "co:corsican\n",
      "hr:croatian\n",
      "cs:czech\n",
      "da:danish\n",
      "nl:dutch\n",
      "en:english\n",
      "eo:esperanto\n",
      "et:estonian\n",
      "tl:filipino\n",
      "fi:finnish\n",
      "fr:french\n",
      "fy:frisian\n",
      "gl:galician\n",
      "ka:georgian\n",
      "de:german\n",
      "el:greek\n",
      "gu:gujarati\n",
      "ht:haitian creole\n",
      "ha:hausa\n",
      "haw:hawaiian\n",
      "iw:hebrew\n",
      "he:hebrew\n",
      "hi:hindi\n",
      "hmn:hmong\n",
      "hu:hungarian\n",
      "is:icelandic\n",
      "ig:igbo\n",
      "id:indonesian\n",
      "ga:irish\n",
      "it:italian\n",
      "ja:japanese\n",
      "jw:javanese\n",
      "kn:kannada\n",
      "kk:kazakh\n",
      "km:khmer\n",
      "ko:korean\n",
      "ku:kurdish (kurmanji)\n",
      "ky:kyrgyz\n",
      "lo:lao\n",
      "la:latin\n",
      "lv:latvian\n",
      "lt:lithuanian\n",
      "lb:luxembourgish\n",
      "mk:macedonian\n",
      "mg:malagasy\n",
      "ms:malay\n",
      "ml:malayalam\n",
      "mt:maltese\n",
      "mi:maori\n",
      "mr:marathi\n",
      "mn:mongolian\n",
      "my:myanmar (burmese)\n",
      "ne:nepali\n",
      "no:norwegian\n",
      "or:odia\n",
      "ps:pashto\n",
      "fa:persian\n",
      "pl:polish\n",
      "pt:portuguese\n",
      "pa:punjabi\n",
      "ro:romanian\n",
      "ru:russian\n",
      "sm:samoan\n",
      "gd:scots gaelic\n",
      "sr:serbian\n",
      "st:sesotho\n",
      "sn:shona\n",
      "sd:sindhi\n",
      "si:sinhala\n",
      "sk:slovak\n",
      "sl:slovenian\n",
      "so:somali\n",
      "es:spanish\n",
      "su:sundanese\n",
      "sw:swahili\n",
      "sv:swedish\n",
      "tg:tajik\n",
      "ta:tamil\n",
      "te:telugu\n",
      "th:thai\n",
      "tr:turkish\n",
      "uk:ukrainian\n",
      "ur:urdu\n",
      "ug:uyghur\n",
      "uz:uzbek\n",
      "vi:vietnamese\n",
      "cy:welsh\n",
      "xh:xhosa\n",
      "yi:yiddish\n",
      "yo:yoruba\n",
      "zu:zulu\n"
     ]
    }
   ],
   "source": [
    "from googletrans import LANGUAGES\n",
    "for lang_code,lang_name in LANGUAGES.items():\n",
    "     print(f\"{lang_code}:{lang_name}\")\n"
   ]
  },
  {
   "cell_type": "code",
   "execution_count": 3,
   "metadata": {},
   "outputs": [
    {
     "data": {
      "text/plain": [
       "'bonjour comment allez-vous ?'"
      ]
     },
     "execution_count": 3,
     "metadata": {},
     "output_type": "execute_result"
    }
   ],
   "source": [
    "\n",
    "translator=Translator()\n",
    "text=\"hello,how are you ?\"\n",
    "translated_text=translator.translate(text=text,src='auto',dest='fr').text\n",
    "translated_text"
   ]
  },
  {
   "cell_type": "code",
   "execution_count": 11,
   "metadata": {},
   "outputs": [
    {
     "name": "stdout",
     "output_type": "stream",
     "text": [
      "Google Translator API: A Powerful Language Translation Tool\n",
      "The Google Translator API is a cloud-based service that enables developers to integrate automatic language translation into their applications. Powered by Google Cloud’s machine learning models, this API supports over 100 languages and provides real-time text translation with high accuracy.\n"
     ]
    }
   ],
   "source": [
    "with open('./script.txt','r') as f:\n",
    "    text = f.read()\n",
    "    \n",
    "print(text)"
   ]
  },
  {
   "cell_type": "code",
   "execution_count": 12,
   "metadata": {},
   "outputs": [
    {
     "data": {
      "text/plain": [
       "\"API Google Traductor: un outil de traduction linguistique puissant\\nL'API Google Traductor est un service basé sur le cloud qui permet aux développeurs d'intégrer la traduction automatique du langage dans leurs applications.Propulsé par les modèles d'apprentissage automatique de Google Cloud, cette API prend en charge plus de 100 langues et fournit une traduction de texte en temps réel avec une grande précision.\""
      ]
     },
     "execution_count": 12,
     "metadata": {},
     "output_type": "execute_result"
    }
   ],
   "source": [
    "\n",
    "translator=Translator()\n",
    "translated_text=translator.translate(text=text,src='auto',dest='fr').text\n",
    "translated_text"
   ]
  }
 ],
 "metadata": {
  "kernelspec": {
   "display_name": "Python 3",
   "language": "python",
   "name": "python3"
  },
  "language_info": {
   "codemirror_mode": {
    "name": "ipython",
    "version": 3
   },
   "file_extension": ".py",
   "mimetype": "text/x-python",
   "name": "python",
   "nbconvert_exporter": "python",
   "pygments_lexer": "ipython3",
   "version": "3.10.10"
  }
 },
 "nbformat": 4,
 "nbformat_minor": 2
}
